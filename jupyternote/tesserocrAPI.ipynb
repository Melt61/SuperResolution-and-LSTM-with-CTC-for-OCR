{
 "cells": [
  {
   "cell_type": "code",
   "execution_count": 18,
   "metadata": {
    "collapsed": true
   },
   "outputs": [],
   "source": [
    "from PIL import Image\n",
    "from tesserocr import PyTessBaseAPI, RIL"
   ]
  },
  {
   "cell_type": "code",
   "execution_count": 47,
   "metadata": {
    "collapsed": true
   },
   "outputs": [],
   "source": [
    "im = Image.open(\"/home/melt61/ta_over.png\")"
   ]
  },
  {
   "cell_type": "code",
   "execution_count": 48,
   "metadata": {},
   "outputs": [
    {
     "name": "stdout",
     "output_type": "stream",
     "text": [
      "<tesserocr.PyPageIterator object at 0x7f04700ff470>\n",
      "Found 423 word image components.\n"
     ]
    }
   ],
   "source": [
    "with PyTessBaseAPI(path='/home/melt61/local/share/tessdata/',lang='chi_sim') as api:\n",
    "    api.SetImage(im)\n",
    "    #print(api.GetWords())\n",
    "    \n",
    "    api.SetSourceResolution(72)\n",
    "    al = api.AnalyseLayout()\n",
    "    print(al)\n",
    "    #for i in api.GetWords():\n",
    "     #   print(i[1].get('x')\n",
    "   # list_i = api.GetWords()\n",
    "    #if(list_i != None):\n",
    "     #   print(list_i)\n",
    "    #zip object\n",
    "    #for each in list_i:\n",
    "     #   print(\"1\")\n",
    "        \n",
    "    boxes = api.GetComponentImages(RIL.WORD, True)\n",
    "    print ('Found {} word image components.'.format(len(boxes)))\n",
    "    for i, (im, box, _, _) in enumerate(boxes):\n",
    "        # im is a PIL image object\n",
    "        # box is a dict with x, y, w and h keys\n",
    "        im.save('/home/melt61/tesseract/words_img_01/'+str(i)+'_ta_over.png')\n"
   ]
  },
  {
   "cell_type": "code",
   "execution_count": null,
   "metadata": {
    "collapsed": true
   },
   "outputs": [],
   "source": []
  }
 ],
 "metadata": {
  "kernelspec": {
   "display_name": "Python(tf-cpu)",
   "language": "python",
   "name": "tf-cpu"
  },
  "language_info": {
   "codemirror_mode": {
    "name": "ipython",
    "version": 3
   },
   "file_extension": ".py",
   "mimetype": "text/x-python",
   "name": "python",
   "nbconvert_exporter": "python",
   "pygments_lexer": "ipython3",
   "version": "3.5.4"
  }
 },
 "nbformat": 4,
 "nbformat_minor": 2
}
