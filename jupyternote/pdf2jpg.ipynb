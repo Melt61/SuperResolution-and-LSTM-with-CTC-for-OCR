{
 "cells": [
  {
   "cell_type": "code",
   "execution_count": 5,
   "metadata": {
    "collapsed": true
   },
   "outputs": [],
   "source": [
    "import os"
   ]
  },
  {
   "cell_type": "code",
   "execution_count": 3,
   "metadata": {},
   "outputs": [],
   "source": [
    "def extract_jpg_from_PDF(pdfName):\n",
    "    #'''Extracts the JPGs images in a PDF file by analising the binary structure of the PDF\n",
    "     #   The beggining of a JPG is tagged by a b\"\\xff\\xd8\" and the end by a \"\\xff\\xd9\"\n",
    "     #   We basically take the characters in between (quick and dirty)'''\n",
    "      #  '''Credit to Ned Batchelder'''\n",
    "\n",
    "    directoryName = pdfName + ' images'\n",
    "    os.makedirs(directoryName) #Directory where jpgs will be extracted\n",
    "    currentDirectory = os.getcwd() #Gets the current directory\n",
    "\n",
    "    pdf = open(pdfName,'rb')\n",
    "    pdf = pdf.read()\n",
    "    path = os.path.join(currentDirectory,directoryName)\n",
    "    os.chdir(path) #Change to the images folder\n",
    "\n",
    "    startmark = b\"\\xff\\xd8\"\n",
    "    startfix = 0\n",
    "    endmark = b\"\\xff\\xd9\"\n",
    "    endfix = 2\n",
    "    i = 0\n",
    "\n",
    "    njpg = 0\n",
    "    while True:\n",
    "        istream = pdf.find(b\"stream\", i)\n",
    "        if istream < 0:\n",
    "            break\n",
    "        istart = pdf.find(startmark, istream, istream + 20)\n",
    "        if istart < 0:\n",
    "            i = istream + 20\n",
    "            continue\n",
    "        iend = pdf.find(b\"endstream\", istart)\n",
    "        if iend < 0:\n",
    "            raise Exception(\"Didn't find end of stream!\")\n",
    "        iend = pdf.find(endmark, iend - 20)\n",
    "        if iend < 0:\n",
    "            raise Exception(\"Didn't find end of JPG!\")\n",
    "\n",
    "        istart += startfix\n",
    "        iend += endfix\n",
    "        print(\"JPG %d from %d to %d\" % (njpg, istart, iend))\n",
    "        jpg = pdf[istart:iend]\n",
    "        with open(\"jpg%d.jpg\" % njpg, \"wb\") as jpgfile:\n",
    "            jpgfile.write(jpg)\n",
    "\n",
    "        njpg += 1\n",
    "        i = iend\n",
    "\n",
    "    jgpfile.close()\n",
    "    os.chdir(currentDirectory)\n",
    "    pdf.close()"
   ]
  },
  {
   "cell_type": "code",
   "execution_count": 7,
   "metadata": {},
   "outputs": [
    {
     "name": "stdout",
     "output_type": "stream",
     "text": [
      "JPG 0 from 31777 to 306945\n",
      "JPG 1 from 347600 to 410305\n",
      "JPG 2 from 410496 to 432093\n",
      "JPG 3 from 433642 to 503991\n",
      "JPG 4 from 540048 to 749518\n",
      "JPG 5 from 751898 to 806690\n",
      "JPG 6 from 811656 to 874796\n",
      "JPG 7 from 916129 to 980812\n",
      "JPG 8 from 989509 to 1141784\n",
      "JPG 9 from 1141977 to 1301511\n",
      "JPG 10 from 1302577 to 1459533\n",
      "JPG 11 from 1459725 to 1562231\n",
      "JPG 12 from 1566473 to 1702994\n",
      "JPG 13 from 1704461 to 1865283\n",
      "JPG 14 from 1865476 to 1982831\n",
      "JPG 15 from 1985381 to 2080568\n",
      "JPG 16 from 2118443 to 2154754\n",
      "JPG 17 from 2944174 to 3517448\n",
      "JPG 18 from 3674419 to 4084459\n"
     ]
    },
    {
     "ename": "NameError",
     "evalue": "name 'jgpfile' is not defined",
     "output_type": "error",
     "traceback": [
      "\u001b[0;31m---------------------------------------------------------------------------\u001b[0m",
      "\u001b[0;31mNameError\u001b[0m                                 Traceback (most recent call last)",
      "\u001b[0;32m<ipython-input-7-280894f56aa0>\u001b[0m in \u001b[0;36m<module>\u001b[0;34m()\u001b[0m\n\u001b[0;32m----> 1\u001b[0;31m \u001b[0mextract_jpg_from_PDF\u001b[0m\u001b[0;34m(\u001b[0m\u001b[0;34m'/home/melt61/pdf2jpg/001.pdf'\u001b[0m\u001b[0;34m)\u001b[0m\u001b[0;34m\u001b[0m\u001b[0m\n\u001b[0m",
      "\u001b[0;32m<ipython-input-3-c6a6a8c568da>\u001b[0m in \u001b[0;36mextract_jpg_from_PDF\u001b[0;34m(pdfName)\u001b[0m\n\u001b[1;32m     46\u001b[0m         \u001b[0mi\u001b[0m \u001b[0;34m=\u001b[0m \u001b[0miend\u001b[0m\u001b[0;34m\u001b[0m\u001b[0m\n\u001b[1;32m     47\u001b[0m \u001b[0;34m\u001b[0m\u001b[0m\n\u001b[0;32m---> 48\u001b[0;31m     \u001b[0mjgpfile\u001b[0m\u001b[0;34m.\u001b[0m\u001b[0mclose\u001b[0m\u001b[0;34m(\u001b[0m\u001b[0;34m)\u001b[0m\u001b[0;34m\u001b[0m\u001b[0m\n\u001b[0m\u001b[1;32m     49\u001b[0m     \u001b[0mos\u001b[0m\u001b[0;34m.\u001b[0m\u001b[0mchdir\u001b[0m\u001b[0;34m(\u001b[0m\u001b[0mcurrentDirectory\u001b[0m\u001b[0;34m)\u001b[0m\u001b[0;34m\u001b[0m\u001b[0m\n\u001b[1;32m     50\u001b[0m     \u001b[0mpdf\u001b[0m\u001b[0;34m.\u001b[0m\u001b[0mclose\u001b[0m\u001b[0;34m(\u001b[0m\u001b[0;34m)\u001b[0m\u001b[0;34m\u001b[0m\u001b[0m\n",
      "\u001b[0;31mNameError\u001b[0m: name 'jgpfile' is not defined"
     ]
    }
   ],
   "source": [
    "extract_jpg_from_PDF('/home/melt61/pdf2jpg/001.pdf')"
   ]
  },
  {
   "cell_type": "code",
   "execution_count": null,
   "metadata": {
    "collapsed": true
   },
   "outputs": [],
   "source": []
  }
 ],
 "metadata": {
  "kernelspec": {
   "display_name": "tf-cpu",
   "language": "python",
   "name": "tf-cpu"
  },
  "language_info": {
   "codemirror_mode": {
    "name": "ipython",
    "version": 3
   },
   "file_extension": ".py",
   "mimetype": "text/x-python",
   "name": "python",
   "nbconvert_exporter": "python",
   "pygments_lexer": "ipython3",
   "version": "3.6.4"
  }
 },
 "nbformat": 4,
 "nbformat_minor": 2
}
