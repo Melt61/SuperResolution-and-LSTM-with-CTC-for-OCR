{
 "cells": [
  {
   "cell_type": "code",
   "execution_count": 1,
   "metadata": {
    "collapsed": true
   },
   "outputs": [],
   "source": [
    "import tensorflow as tf\n",
    "from PIL import Image\n",
    "import numpy as np\n",
    "import os\n",
    "import re"
   ]
  },
  {
   "cell_type": "code",
   "execution_count": 32,
   "metadata": {
    "collapsed": true
   },
   "outputs": [],
   "source": [
    "def ab_c(batch):\n",
    "    n = batch\n",
    "    b = 0\n",
    "    a = 0\n",
    "    while n > 0:\n",
    "        yield a,b\n",
    "        print(\"++\")\n",
    "        a = a + 2\n",
    "        b = b + 1\n",
    "        n = n - 1"
   ]
  },
  {
   "cell_type": "code",
   "execution_count": 33,
   "metadata": {
    "collapsed": true
   },
   "outputs": [],
   "source": [
    "it = ab_c(10)"
   ]
  },
  {
   "cell_type": "code",
   "execution_count": 74,
   "metadata": {
    "collapsed": true
   },
   "outputs": [],
   "source": [
    "im = Image.open('/home/melt61/PictureGenerator/GenImage01/0.jpg')"
   ]
  },
  {
   "cell_type": "code",
   "execution_count": 114,
   "metadata": {
    "collapsed": true
   },
   "outputs": [],
   "source": [
    "image_save_path = '/home/melt61/PictureGenerator/GenImage01'\n",
    "paths = []  \n",
    "\n",
    "for root, sub_dirs, files in os.walk(image_save_path):\n",
    "    for special_file in files:\n",
    "        special_file_path = os.path.join(root, special_file)\n",
    "        paths.append(special_file_path)\n",
    "\n",
    "    #print(paths[0])\n",
    "paths.sort(key = lambda i:int(re.search(r'/(\\d+).jpg',i).group().lstrip('/').rstrip('.jpg')))\n",
    "    #print(paths)\n",
    "    \n",
    "image_array = []\n",
    "max_l = 0\n",
    "\n",
    "for each_path in paths[:10]:\n",
    "    with Image.open(each_path) as image_temp:\n",
    "        image = np.asarray(image_temp, 'i')\n",
    "        image = image.transpose(1,0)\n",
    "        image_array.append(image)\n",
    "        if image.shape[0] > max_l:\n",
    "            max_l = image.shape[0]\n",
    "\n",
    "\n",
    "            \n"
   ]
  },
  {
   "cell_type": "code",
   "execution_count": 116,
   "metadata": {
    "collapsed": true
   },
   "outputs": [],
   "source": [
    "iarr = np.vstack((image_array[0], np.zeros(50)))"
   ]
  },
  {
   "cell_type": "code",
   "execution_count": 118,
   "metadata": {},
   "outputs": [
    {
     "name": "stdout",
     "output_type": "stream",
     "text": [
      "(181, 50)\n"
     ]
    }
   ],
   "source": [
    "print(iarr.shape)"
   ]
  },
  {
   "cell_type": "code",
   "execution_count": 4,
   "metadata": {
    "collapsed": true
   },
   "outputs": [],
   "source": [
    "\n",
    "sp = tf.SparseTensor(values=[1,2,3], indices=[[0,1],[1,3],[2,2]], dense_shape=[3,4])"
   ]
  },
  {
   "cell_type": "code",
   "execution_count": 7,
   "metadata": {
    "collapsed": true
   },
   "outputs": [],
   "source": [
    "dp = tf.sparse_to_dense(sp.indices, sp.dense_shape, sp.values)"
   ]
  },
  {
   "cell_type": "code",
   "execution_count": 11,
   "metadata": {
    "collapsed": true
   },
   "outputs": [],
   "source": [
    "with tf.Session() as sess:\n",
    "    red = sess.run(dp)"
   ]
  },
  {
   "cell_type": "code",
   "execution_count": 12,
   "metadata": {},
   "outputs": [
    {
     "name": "stdout",
     "output_type": "stream",
     "text": [
      "[[0 1 0 0]\n",
      " [0 0 0 2]\n",
      " [0 0 3 0]]\n"
     ]
    }
   ],
   "source": [
    "print(red)"
   ]
  },
  {
   "cell_type": "code",
   "execution_count": null,
   "metadata": {
    "collapsed": true
   },
   "outputs": [],
   "source": []
  },
  {
   "cell_type": "code",
   "execution_count": 14,
   "metadata": {},
   "outputs": [
    {
     "name": "stdout",
     "output_type": "stream",
     "text": [
      "[64 64 64 64]\n"
     ]
    }
   ],
   "source": [
    "sequence = [[1,0,0], [0,1,0], [0,0,1],[0,0,0]]\n",
    "\n",
    "length = np.asarray([64 for _ in sequence])\n",
    "\n",
    "print(length)"
   ]
  },
  {
   "cell_type": "code",
   "execution_count": 56,
   "metadata": {
    "collapsed": true
   },
   "outputs": [],
   "source": [
    "np01 = np.array([1,2,3,4])\n",
    "np02 = np.array([5,6,7,8])\n",
    "np03 = np.zeros(4)"
   ]
  },
  {
   "cell_type": "code",
   "execution_count": 71,
   "metadata": {},
   "outputs": [
    {
     "name": "stdout",
     "output_type": "stream",
     "text": [
      "[[[1. 2. 3. 4.]\n",
      "  [5. 6. 7. 8.]\n",
      "  [0. 0. 0. 0.]]]\n"
     ]
    }
   ],
   "source": [
    "npTemp = np.vstack((np01,np02,np03))\n",
    "npTemp = npTemp.reshape((1,3,4))\n",
    "#np.lib.pad(np01, (1,2,3), 'constant', constant_values=0)\n",
    "print(npTemp)"
   ]
  },
  {
   "cell_type": "code",
   "execution_count": 72,
   "metadata": {
    "collapsed": true
   },
   "outputs": [],
   "source": [
    "i = 3\n",
    "reciveTmp = npTemp[0]\n",
    "while i > 0:\n",
    "        reciveTmp = np.vstack((reciveTmp,np.zeros(4)))\n",
    "        i = i-1\n",
    "\n",
    "\n",
    "for seq in npTemp:\n",
    "    y = 3\n",
    "    while y > 0:\n",
    "        seq = np.vstack((seq,np.zeros(4)))\n",
    "        y = y-1\n",
    "    reciveTmp = np.vstack((reciveTmp, seq))"
   ]
  },
  {
   "cell_type": "code",
   "execution_count": 73,
   "metadata": {},
   "outputs": [
    {
     "name": "stdout",
     "output_type": "stream",
     "text": [
      "[[1. 2. 3. 4.]\n",
      " [5. 6. 7. 8.]\n",
      " [0. 0. 0. 0.]\n",
      " [0. 0. 0. 0.]\n",
      " [0. 0. 0. 0.]\n",
      " [0. 0. 0. 0.]\n",
      " [1. 2. 3. 4.]\n",
      " [5. 6. 7. 8.]\n",
      " [0. 0. 0. 0.]\n",
      " [0. 0. 0. 0.]\n",
      " [0. 0. 0. 0.]\n",
      " [0. 0. 0. 0.]]\n"
     ]
    }
   ],
   "source": [
    "#reciveTmp = np.stack(reciveTmp, axis = 0)\n",
    "#reciveTmp = reciveTmp.reshape((4,4,4))\n",
    "print(reciveTmp)"
   ]
  },
  {
   "cell_type": "code",
   "execution_count": 111,
   "metadata": {},
   "outputs": [
    {
     "name": "stdout",
     "output_type": "stream",
     "text": [
      "[[11. 44.  0.]\n",
      " [22. 55.  0.]\n",
      " [33. 66.  0.]\n",
      " [44. 77.  0.]]\n"
     ]
    }
   ],
   "source": [
    "np000 = [[[1,2,3,4],[5,6,7,8]],[[11,22,33,44],[44,55,66,77]]]\n",
    "np000 = np.stack(np000)\n",
    "np111 = np.vstack((np000[1],np.zeros(4)))\n",
    "print(np111.transpose(1,0))"
   ]
  },
  {
   "cell_type": "code",
   "execution_count": null,
   "metadata": {
    "collapsed": true
   },
   "outputs": [],
   "source": []
  },
  {
   "cell_type": "code",
   "execution_count": 2,
   "metadata": {},
   "outputs": [
    {
     "ename": "NameError",
     "evalue": "name 'sequence' is not defined",
     "output_type": "error",
     "traceback": [
      "\u001b[0;31m---------------------------------------------------------------------------\u001b[0m",
      "\u001b[0;31mNameError\u001b[0m                                 Traceback (most recent call last)",
      "\u001b[0;32m<ipython-input-2-6dda0e1ab3e2>\u001b[0m in \u001b[0;36m<module>\u001b[0;34m()\u001b[0m\n\u001b[1;32m      1\u001b[0m \u001b[0mseqence\u001b[0m \u001b[0;34m=\u001b[0m \u001b[0;34m[\u001b[0m\u001b[0;36m1\u001b[0m\u001b[0;34m,\u001b[0m\u001b[0;36m2\u001b[0m\u001b[0;34m,\u001b[0m\u001b[0;36m3\u001b[0m\u001b[0;34m,\u001b[0m\u001b[0;36m4\u001b[0m\u001b[0;34m,\u001b[0m\u001b[0;36m5\u001b[0m\u001b[0;34m]\u001b[0m\u001b[0;34m\u001b[0m\u001b[0m\n\u001b[0;32m----> 2\u001b[0;31m \u001b[0;32mfor\u001b[0m \u001b[0mindex\u001b[0m\u001b[0;34m,\u001b[0m \u001b[0mseq\u001b[0m \u001b[0;32min\u001b[0m \u001b[0menumerate\u001b[0m\u001b[0;34m(\u001b[0m\u001b[0msequence\u001b[0m\u001b[0;34m)\u001b[0m\u001b[0;34m:\u001b[0m\u001b[0;34m\u001b[0m\u001b[0m\n\u001b[0m\u001b[1;32m      3\u001b[0m     \u001b[0mindices\u001b[0m\u001b[0;34m.\u001b[0m\u001b[0mextend\u001b[0m\u001b[0;34m(\u001b[0m\u001b[0mzip\u001b[0m\u001b[0;34m(\u001b[0m\u001b[0;34m[\u001b[0m\u001b[0mindex\u001b[0m\u001b[0;34m]\u001b[0m \u001b[0;34m*\u001b[0m \u001b[0mlen\u001b[0m\u001b[0;34m(\u001b[0m\u001b[0mseq\u001b[0m\u001b[0;34m)\u001b[0m\u001b[0;34m,\u001b[0m \u001b[0mrange\u001b[0m\u001b[0;34m(\u001b[0m\u001b[0mlen\u001b[0m\u001b[0;34m(\u001b[0m\u001b[0mseq\u001b[0m\u001b[0;34m)\u001b[0m\u001b[0;34m)\u001b[0m\u001b[0;34m)\u001b[0m\u001b[0;34m)\u001b[0m\u001b[0;34m\u001b[0m\u001b[0m\n\u001b[1;32m      4\u001b[0m     \u001b[0mvalues\u001b[0m\u001b[0;34m.\u001b[0m\u001b[0mextend\u001b[0m\u001b[0;34m(\u001b[0m\u001b[0mseq\u001b[0m\u001b[0;34m)\u001b[0m\u001b[0;34m\u001b[0m\u001b[0m\n\u001b[1;32m      5\u001b[0m \u001b[0;34m\u001b[0m\u001b[0m\n",
      "\u001b[0;31mNameError\u001b[0m: name 'sequence' is not defined"
     ]
    }
   ],
   "source": [
    "sequence = [1,2,3,4,5]\n",
    "for index, seq in enumerate(sequence):\n",
    "    indices.extend(zip([index] * len(seq), range(len(seq))))\n",
    "    values.extend(seq)\n",
    "\n",
    "indices = np.asarray(indices, dtype=np.int64)\n",
    "values = np.asarray(values, dtype=np.int32)\n",
    "shape = np.asarray([len(sequence), np.asarray(indices).max(0)[1] + 1], dtype=np.int64)\n",
    "\n",
    "print(indices)"
   ]
  },
  {
   "cell_type": "code",
   "execution_count": null,
   "metadata": {
    "collapsed": true
   },
   "outputs": [],
   "source": []
  }
 ],
 "metadata": {
  "kernelspec": {
   "display_name": "tf-cpu",
   "language": "python",
   "name": "tf-cpu"
  },
  "language_info": {
   "codemirror_mode": {
    "name": "ipython",
    "version": 3
   },
   "file_extension": ".py",
   "mimetype": "text/x-python",
   "name": "python",
   "nbconvert_exporter": "python",
   "pygments_lexer": "ipython3",
   "version": "3.6.4"
  }
 },
 "nbformat": 4,
 "nbformat_minor": 2
}
