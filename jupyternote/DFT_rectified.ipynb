{
 "cells": [
  {
   "cell_type": "code",
   "execution_count": 1,
   "metadata": {
    "collapsed": true
   },
   "outputs": [],
   "source": [
    "import cv2\n",
    "from PIL import Image\n",
    "import numpy as np \n",
    "from matplotlib import pyplot as plt"
   ]
  },
  {
   "cell_type": "code",
   "execution_count": 182,
   "metadata": {
    "collapsed": true
   },
   "outputs": [],
   "source": [
    "srcImg = cv2.imread(\"/home/melt61/TensorflowProjects/dcscn-super-resolution/char_test/rotImg_04.jpg\"\n",
    "                   ,0)"
   ]
  },
  {
   "cell_type": "code",
   "execution_count": 183,
   "metadata": {
    "collapsed": true
   },
   "outputs": [],
   "source": [
    "opWidth = cv2.getOptimalDFTSize(srcImg.shape[1])\n",
    "opHeight = cv2.getOptimalDFTSize(srcImg.shape[0])\n",
    "padded = cv2.copyMakeBorder(srcImg, 0, opWidth-srcImg.shape[1], 0, opHeight-srcImg.shape[0], \n",
    "                            cv2.BORDER_CONSTANT, value = (0,0,0))"
   ]
  },
  {
   "cell_type": "code",
   "execution_count": 184,
   "metadata": {
    "collapsed": true
   },
   "outputs": [],
   "source": [
    "tfImg = np.fft.fft2(padded)\n",
    "shImg = np.fft.fftshift(tfImg)\n",
    "fft_result_Img = 20 * np.log(np.abs(shImg))"
   ]
  },
  {
   "cell_type": "code",
   "execution_count": 123,
   "metadata": {
    "collapsed": true
   },
   "outputs": [],
   "source": [
    "#dftImg = cv2.dft(np.float32(padded), flags=cv2.DFT_COMPLEX_OUTPUT)\n",
    "#dft_shift = np.fft.fftshift(dftImg)\n",
    "#magnitude_2 = 20 * np.log(cv2.magnitude(dft_shift[:,:,0], dft_shift[:,:,1]))  "
   ]
  },
  {
   "cell_type": "code",
   "execution_count": 159,
   "metadata": {
    "collapsed": true,
    "scrolled": true
   },
   "outputs": [],
   "source": [
    "#tt1 = Image.fromarray(magnitude_2)\n",
    "tt1 = Image.fromarray(fft_result_Img)\n",
    "tt1.show()\n"
   ]
  },
  {
   "cell_type": "code",
   "execution_count": 185,
   "metadata": {
    "collapsed": true
   },
   "outputs": [],
   "source": [
    "#fft_gray = cv2.cvtColor(tt1, cv2.COLOR_BGR2GRAY)\n",
    "tImg = fft_result_Img.astype(np.uint8)\n",
    "#edges = cv2.Canny(fft_result_Img, 50, 150, apertureSize= 3 )\n",
    "#minLineLength = 10\n",
    "#maxLineGap = 50\n",
    "\n",
    "ret, biImg = cv2.threshold(tImg, 40, 255, cv2.THRESH_BINARY_INV)\n",
    "\n",
    "lines = cv2.HoughLines(biImg, 1, np.pi/180, 180)"
   ]
  },
  {
   "cell_type": "code",
   "execution_count": 186,
   "metadata": {
    "collapsed": true
   },
   "outputs": [],
   "source": [
    "linesnum = lines.shape[0]\n",
    "lineImg = np.zeros(srcImg.shape)\n"
   ]
  },
  {
   "cell_type": "code",
   "execution_count": 187,
   "metadata": {
    "collapsed": true
   },
   "outputs": [],
   "source": [
    "for l in range(linesnum):\n",
    "    for rho,theta in lines[l]:\n",
    "        #if 0 < theta < 1/2  or 1/2 < theta < 1:\n",
    "        #   print(theta/np.pi)\n",
    "        a = np.cos(theta)\n",
    "        b = np.sin(theta)\n",
    "        x0 = a*rho\n",
    "        y0 = b*rho\n",
    "        x1 = int(x0 + 1000*(-b))\n",
    "        y1 = int(y0 + 1000*(a))\n",
    "        x2 = int(x0 - 1000*(-b))\n",
    "        y2 = int(y0 - 1000*(a))\n",
    "        cv2.line(lineImg, (x1, y1), (x2, y2), (255, 0, 0), 2)"
   ]
  },
  {
   "cell_type": "code",
   "execution_count": 188,
   "metadata": {},
   "outputs": [],
   "source": [
    "tt = Image.fromarray(padded)\n",
    "tt.show()\n",
    "tt.save(\"/home/melt61/Rotation_Rectified/rotImg_04_padded.png\")\n",
    "\n",
    "tt1 = Image.fromarray(fft_result_Img)\n",
    "tt1.show()\n",
    "tt1 = tt1.convert('RGB')\n",
    "tt1.save(\"/home/melt61/Rotation_Rectified/rotImg_04_fft.png\")\n",
    "\n",
    "tt2 = Image.fromarray(biImg)\n",
    "tt2.show()\n",
    "tt2 = tt2.convert('RGB')\n",
    "tt2.save(\"/home/melt61/Rotation_Rectified/rotImg_04_bi.png\")\n",
    "\n",
    "tt3 = Image.fromarray(lineImg)\n",
    "tt3.show()\n",
    "tt3 = tt3.convert('RGB')\n",
    "tt3.save(\"/home/melt61/Rotation_Rectified/rotImg_04_lines.png\")"
   ]
  },
  {
   "cell_type": "code",
   "execution_count": 189,
   "metadata": {},
   "outputs": [
    {
     "name": "stdout",
     "output_type": "stream",
     "text": [
      "0.139626\n"
     ]
    }
   ],
   "source": [
    "angle = 0.0\n",
    "piThresh = np.pi/90\n",
    "for i in range(linesnum):\n",
    "    rhoC,thetaC = lines[i][0]\n",
    "    #print(lines[i])\n",
    "    if np.abs(thetaC) < piThresh or np.abs(thetaC-np.pi/2) < piThresh:\n",
    "        continue\n",
    "    else:    \n",
    "        print(thetaC)\n",
    "        angle = thetaC\n",
    "        break"
   ]
  },
  {
   "cell_type": "code",
   "execution_count": 190,
   "metadata": {},
   "outputs": [
    {
     "name": "stdout",
     "output_type": "stream",
     "text": [
      "0.192390862344\n"
     ]
    }
   ],
   "source": [
    "angle if angle < np.pi/2 else angle-np.pi\n",
    "\n",
    "if angle != np.pi/2:\n",
    "    angleT = srcImg.shape[0] * np.tan(angle) / srcImg.shape[1]\n",
    "    angle = np.arctan(angleT)\n",
    "    print(angle)\n",
    "\n",
    "rows,cols = srcImg.shape\n",
    "RotationM = cv2.getRotationMatrix2D((cols/2, rows/2), angle/np.pi*180, 1)\n",
    "dst = cv2.warpAffine(srcImg, RotationM, (cols, rows))"
   ]
  },
  {
   "cell_type": "code",
   "execution_count": 191,
   "metadata": {
    "collapsed": true
   },
   "outputs": [],
   "source": [
    "tt4 = Image.fromarray(dst)\n",
    "tt4.show()"
   ]
  },
  {
   "cell_type": "code",
   "execution_count": 192,
   "metadata": {},
   "outputs": [],
   "source": [
    "tt4.save(\"/home/melt61/Rotation_Rectified/aRota_04.jpg\",dpi=(150, 150))"
   ]
  },
  {
   "cell_type": "code",
   "execution_count": null,
   "metadata": {
    "collapsed": true
   },
   "outputs": [],
   "source": []
  }
 ],
 "metadata": {
  "kernelspec": {
   "display_name": "Python(tf-cpu)",
   "language": "python",
   "name": "tf-cpu"
  },
  "language_info": {
   "codemirror_mode": {
    "name": "ipython",
    "version": 3
   },
   "file_extension": ".py",
   "mimetype": "text/x-python",
   "name": "python",
   "nbconvert_exporter": "python",
   "pygments_lexer": "ipython3",
   "version": "3.5.4"
  }
 },
 "nbformat": 4,
 "nbformat_minor": 2
}
