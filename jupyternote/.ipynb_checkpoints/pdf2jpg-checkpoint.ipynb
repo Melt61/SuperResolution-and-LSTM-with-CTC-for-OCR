{
 "cells": [
  {
   "cell_type": "code",
   "execution_count": null,
   "metadata": {
    "collapsed": true
   },
   "outputs": [],
   "source": []
  },
  {
   "cell_type": "code",
   "execution_count": 3,
   "metadata": {},
   "outputs": [],
   "source": [
    "def extract_jpg_from_PDF(pdfName):\n",
    "    #'''Extracts the JPGs images in a PDF file by analising the binary structure of the PDF\n",
    "     #   The beggining of a JPG is tagged by a b\"\\xff\\xd8\" and the end by a \"\\xff\\xd9\"\n",
    "     #   We basically take the characters in between (quick and dirty)'''\n",
    "      #  '''Credit to Ned Batchelder'''\n",
    "\n",
    "    directoryName = pdfName + ' images'\n",
    "    os.makedirs(directoryName) #Directory where jpgs will be extracted\n",
    "    currentDirectory = os.getcwd() #Gets the current directory\n",
    "\n",
    "    pdf = open(pdfName,'rb')\n",
    "    pdf = pdf.read()\n",
    "    path = os.path.join(currentDirectory,directoryName)\n",
    "    os.chdir(path) #Change to the images folder\n",
    "\n",
    "    startmark = b\"\\xff\\xd8\"\n",
    "    startfix = 0\n",
    "    endmark = b\"\\xff\\xd9\"\n",
    "    endfix = 2\n",
    "    i = 0\n",
    "\n",
    "    njpg = 0\n",
    "    while True:\n",
    "        istream = pdf.find(b\"stream\", i)\n",
    "        if istream < 0:\n",
    "            break\n",
    "        istart = pdf.find(startmark, istream, istream + 20)\n",
    "        if istart < 0:\n",
    "            i = istream + 20\n",
    "            continue\n",
    "        iend = pdf.find(b\"endstream\", istart)\n",
    "        if iend < 0:\n",
    "            raise Exception(\"Didn't find end of stream!\")\n",
    "        iend = pdf.find(endmark, iend - 20)\n",
    "        if iend < 0:\n",
    "            raise Exception(\"Didn't find end of JPG!\")\n",
    "\n",
    "        istart += startfix\n",
    "        iend += endfix\n",
    "        print(\"JPG %d from %d to %d\" % (njpg, istart, iend))\n",
    "        jpg = pdf[istart:iend]\n",
    "        with open(\"jpg%d.jpg\" % njpg, \"wb\") as jpgfile:\n",
    "            jpgfile.write(jpg)\n",
    "\n",
    "        njpg += 1\n",
    "        i = iend\n",
    "\n",
    "    jgpfile.close()\n",
    "    os.chdir(currentDirectory)\n",
    "    pdf.close()"
   ]
  },
  {
   "cell_type": "code",
   "execution_count": null,
   "metadata": {
    "collapsed": true
   },
   "outputs": [],
   "source": []
  }
 ],
 "metadata": {
  "kernelspec": {
   "display_name": "tf-cpu",
   "language": "python",
   "name": "tf-cpu"
  },
  "language_info": {
   "codemirror_mode": {
    "name": "ipython",
    "version": 3
   },
   "file_extension": ".py",
   "mimetype": "text/x-python",
   "name": "python",
   "nbconvert_exporter": "python",
   "pygments_lexer": "ipython3",
   "version": "3.6.4"
  }
 },
 "nbformat": 4,
 "nbformat_minor": 2
}
