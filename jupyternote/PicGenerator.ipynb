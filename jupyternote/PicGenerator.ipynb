{
 "cells": [
  {
   "cell_type": "code",
   "execution_count": 15,
   "metadata": {
    "collapsed": true
   },
   "outputs": [],
   "source": [
    "#coding:utf-8\n",
    "from PIL import Image, ImageDraw, ImageFont\n",
    "import random\n",
    "import os\n"
   ]
  },
  {
   "cell_type": "code",
   "execution_count": 16,
   "metadata": {},
   "outputs": [
    {
     "name": "stdout",
     "output_type": "stream",
     "text": [
      "5686\n"
     ]
    }
   ],
   "source": [
    "\n",
    "half_mark_list = [',', '.', ';', \n",
    "                  '\\'', '[', ']', '\\\\',\n",
    "                  '<', '>', '?', ':', \n",
    "                  '\\\"', '{', '}', '|',\n",
    "                  '`', '~', '/', \n",
    "                  '!', '@', '#', '$',\n",
    "                  '%', '^', '&', '*',\n",
    "                  '(', ')', '-', '_',\n",
    "                  '+', '=']\n",
    "half_mark_seed = len(half_mark_list)\n",
    "\n",
    "full_mark_list = ['，', '。', '；', '\\’', \n",
    "                 '·', '「', '」','、', \n",
    "                 '～', '！','￥', '…',\n",
    "                  '×', '（', '）', '—',\n",
    "                 '《', '》', \"？\", '：', \n",
    "                 '”', '“']\n",
    "full_mark_seed = len(full_mark_list)\n",
    "\n",
    "\n",
    "eng_0_list = ['q', 'w', 'e', 'r', 't', 'y',\n",
    "              'u', 'i', 'o', 'p', 'a', 's',\n",
    "              'd', 'f', 'g', 'h', 'j', 'k',\n",
    "              'l', 'z', 'x', 'c', 'v', 'b',\n",
    "              'n', 'm']\n",
    "eng_0_seed = len(eng_0_list)\n",
    "\n",
    "eng_1_list = ['Q', 'W', 'E', 'R', 'T', 'Y',\n",
    "              'U', 'I', 'O', 'P', 'A', 'S',\n",
    "              'D', 'F', 'G', 'H', 'J', 'K',\n",
    "              'L', 'Z', 'X', 'C', 'V', 'B',\n",
    "              'N', 'M']\n",
    "eng_1_seed = len(eng_1_list)\n",
    "\n",
    "number_list = ['0', '1', '2', '3', '4', '5',\n",
    "               '6', '7', '8', '9']\n",
    "number_seed = len(number_list)\n",
    "\n",
    "#i = 0\n",
    "chi_list = []\n",
    "with open('/home/melt61/PictureGenerator/OCR-Picture-Generators/Chinese-Generation/common/dict-common') as f:\n",
    "    for line in f.readlines():\n",
    "        #i = i+1\n",
    "        temp = line.rstrip('\\n')\n",
    "        chi_list.append(temp)\n",
    "        #print(line)\n",
    "\n",
    "chi_seed = len(chi_list)\n",
    "\n",
    "map_length = half_mark_seed + full_mark_seed + eng_0_seed + eng_1_seed + number_seed + chi_seed\n",
    "\n",
    "print(map_length)"
   ]
  },
  {
   "cell_type": "code",
   "execution_count": 17,
   "metadata": {},
   "outputs": [],
   "source": [
    "\n",
    "image_save_path = '/home/melt61/PictureGenerator/GenImage01'\n",
    "label_save_path = '/home/melt61/PictureGenerator/GenLabel01/labels.txt'\n",
    "\n",
    " \n",
    "font_path = '/home/melt61/PictureGenerator/OCR-Picture-Generators/fonts_Chinese'\n",
    "font_dir = os.walk(font_path)\n",
    "fonts=[]\n",
    "for roo, dirs, files in font_dir:\n",
    "    for f in files:\n",
    "        fonts.append(os.path.join(roo, f))\n"
   ]
  },
  {
   "cell_type": "code",
   "execution_count": 18,
   "metadata": {
    "collapsed": true
   },
   "outputs": [],
   "source": [
    "image_id = 0\n",
    "image_num = 1000\n",
    "\n",
    "\n",
    "while image_num > 0:\n",
    "    gen_string = ''\n",
    "    length = random.randint(5,30)\n",
    "    length_i = length\n",
    "    #image_size = 0\n",
    "    \n",
    "    while length_i > 0:\n",
    "        mark_chi_selector = random.randint(0,99)\n",
    "        if(mark_chi_selector > 30):\n",
    "            chi_selector = random.randint(0, chi_seed-1)\n",
    "            gen_string = gen_string + chi_list[chi_selector]\n",
    "            #image_size = image_size +2\n",
    "            \n",
    "        elif(mark_chi_selector > 18):\n",
    "            eng_0_selector = random.randint(0, eng_0_seed-1)\n",
    "            gen_string = gen_string + eng_0_list[eng_0_selector]\n",
    "            \n",
    "        elif(mark_chi_selector > 10):\n",
    "            eng_1_selector = random.randint(0, eng_1_seed-1)\n",
    "            gen_string = gen_string + eng_1_list[eng_1_selector]\n",
    "        \n",
    "        elif(mark_chi_selector > 5):\n",
    "            number_selector = random.randint(0, number_seed-1)\n",
    "            gen_string = gen_string + number_list[number_selector]\n",
    "        \n",
    "        elif(mark_chi_selector > 2):\n",
    "            half_mark_selector = random.randint(0, half_mark_seed-1)\n",
    "            gen_string = gen_string + half_mark_list[half_mark_selector]\n",
    "            #image_size = image_size +1\n",
    "            \n",
    "        else:\n",
    "            full_mark_selector = random.randint(0, full_mark_seed-1)\n",
    "            gen_string = gen_string + full_mark_list[full_mark_selector]\n",
    "            #image_size = image_size +2\n",
    "            \n",
    "        length_i = length_i -1\n",
    "    \n",
    "    #print(gen_string)\n",
    "\n",
    "\n",
    "    newIm = Image.new('L', (36*length, 50), 'white')\n",
    "    ImDraw = ImageDraw.Draw(newIm)\n",
    "\n",
    "    font_selector = random.randint(0,4)\n",
    "\n",
    "    ttfont = ImageFont.truetype(fonts[font_selector], 36)\n",
    "    \n",
    "    ImDraw.text([0,0], gen_string, font = ttfont)\n",
    "    \n",
    "    newIm.save(image_save_path + '/'\n",
    "                               + str(image_id) \n",
    "                               #+'_'\n",
    "                               #+ gen_string \n",
    "                               + '.jpg', 'jpeg')\n",
    "    \n",
    "    image_num = image_num - 1 \n",
    "    image_id = image_id + 1\n",
    "    \n",
    "    with open(label_save_path, 'a') as lf:\n",
    "        lf.write(gen_string+'\\n')\n",
    "        \n"
   ]
  },
  {
   "cell_type": "code",
   "execution_count": null,
   "metadata": {
    "collapsed": true
   },
   "outputs": [],
   "source": []
  }
 ],
 "metadata": {
  "kernelspec": {
   "display_name": "tf-cpu",
   "language": "python",
   "name": "tf-cpu"
  },
  "language_info": {
   "codemirror_mode": {
    "name": "ipython",
    "version": 3
   },
   "file_extension": ".py",
   "mimetype": "text/x-python",
   "name": "python",
   "nbconvert_exporter": "python",
   "pygments_lexer": "ipython3",
   "version": "3.6.4"
  }
 },
 "nbformat": 4,
 "nbformat_minor": 2
}
